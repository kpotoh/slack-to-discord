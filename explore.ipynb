{
 "cells": [
  {
   "cell_type": "code",
   "execution_count": null,
   "metadata": {},
   "outputs": [],
   "source": []
  },
  {
   "cell_type": "code",
   "execution_count": null,
   "metadata": {},
   "outputs": [],
   "source": []
  },
  {
   "cell_type": "code",
   "execution_count": null,
   "metadata": {},
   "outputs": [],
   "source": []
  },
  {
   "cell_type": "code",
   "execution_count": null,
   "metadata": {},
   "outputs": [],
   "source": [
    "        existing_channels = {x.name: x for x in g.text_channels}\n",
    "\n",
    "        for c, (init_topic, is_private, pins) in slack_channels(self._data_dir).items():\n",
    "\n",
    "            init_topic = emoji_replace(init_topic, emoji_map)\n",
    "            ch = None\n",
    "\n",
    "            print(\"Processing channel {}...\".format(c))\n",
    "            print(\"Sending messages...\")\n",
    "\n",
    "            for msg in slack_channel_messages(self._data_dir, c, emoji_map, pins):"
   ]
  },
  {
   "cell_type": "code",
   "execution_count": null,
   "metadata": {},
   "outputs": [],
   "source": [
    "def main():\n",
    "    infile = \"./MitoFunGen Slack export Nov 1 2019 - Jul 23 2022.zip\"\n",
    "    guild = \"mitoclub\"\n",
    "    with open(\"./token.txt\") as fin:\n",
    "        token = fin.read().strip()\n",
    "\n",
    "    print(\"Extracting zipfile...\", end=\"\", flush=True)\n",
    "    with tempfile.TemporaryDirectory() as t:\n",
    "        with zipfile.ZipFile(infile, 'r') as z:\n",
    "            z.extractall(t)\n",
    "        print(\"Done!\")\n",
    "\n",
    "        print(\"Logging the bot into Discord...\", end=\"\", flush=True)\n",
    "        client = MyClient(\n",
    "            data_dir=t,\n",
    "            guild_name=guild,\n",
    "            all_private=False,\n",
    "            start=None,\n",
    "            end=None,\n",
    "        )\n",
    "        client.run(token)"
   ]
  },
  {
   "cell_type": "code",
   "execution_count": null,
   "metadata": {},
   "outputs": [],
   "source": []
  },
  {
   "cell_type": "code",
   "execution_count": null,
   "metadata": {},
   "outputs": [],
   "source": []
  }
 ],
 "metadata": {
  "kernelspec": {
   "display_name": "Python 3.9.5 ('env_pycord': venv)",
   "language": "python",
   "name": "python3"
  },
  "language_info": {
   "name": "python",
   "version": "3.9.5"
  },
  "orig_nbformat": 4,
  "vscode": {
   "interpreter": {
    "hash": "b35d3492ced632d538a5303fc61a681ea07076a50137635b0c894a07e374639b"
   }
  }
 },
 "nbformat": 4,
 "nbformat_minor": 2
}
